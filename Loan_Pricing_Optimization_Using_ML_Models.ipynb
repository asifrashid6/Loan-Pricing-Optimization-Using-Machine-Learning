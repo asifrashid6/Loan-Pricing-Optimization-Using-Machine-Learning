{
  "cells": [
    {
      "cell_type": "markdown",
      "id": "d33091a3",
      "metadata": {
        "id": "d33091a3"
      },
      "source": [
        "## Setup\n",
        "Import libraries and load data."
      ]
    },
    {
      "cell_type": "code",
      "execution_count": null,
      "id": "500ecbe1",
      "metadata": {
        "colab": {
          "base_uri": "https://localhost:8080/",
          "height": 206
        },
        "id": "500ecbe1",
        "outputId": "c8201116-e99d-4408-947a-80a87f9f0e02"
      },
      "outputs": [
        {
          "output_type": "execute_result",
          "data": {
            "text/plain": [
              "   Tier   FICO Approve Date  Term   Amount Previous Rate Car  Type  \\\n",
              "0   3.0  695.0   2002-07-01  72.0  35000.0                       N   \n",
              "1   1.0  751.0   2002-07-01  60.0  40000.0                       N   \n",
              "2   1.0  731.0   2002-07-01  60.0  18064.0                       N   \n",
              "3   4.0  652.0   2002-07-01  72.0  15415.0                       N   \n",
              "4   1.0  730.0   2002-07-01  48.0  32000.0                       N   \n",
              "\n",
              "   Competition rate  Accept?  Rate  Cost of Funds  Partner Bin  \n",
              "0              6.25      0.0  7.49         1.8388          1.0  \n",
              "1              5.65      0.0  5.49         1.8388          3.0  \n",
              "2              5.65      0.0  5.49         1.8388          3.0  \n",
              "3              6.25      0.0  8.99         1.8388          3.0  \n",
              "4              5.65      0.0  5.49         1.8388          1.0  "
            ],
            "text/html": [
              "\n",
              "  <div id=\"df-d931bcb1-c561-41b9-aad4-66b24bbb3004\" class=\"colab-df-container\">\n",
              "    <div>\n",
              "<style scoped>\n",
              "    .dataframe tbody tr th:only-of-type {\n",
              "        vertical-align: middle;\n",
              "    }\n",
              "\n",
              "    .dataframe tbody tr th {\n",
              "        vertical-align: top;\n",
              "    }\n",
              "\n",
              "    .dataframe thead th {\n",
              "        text-align: right;\n",
              "    }\n",
              "</style>\n",
              "<table border=\"1\" class=\"dataframe\">\n",
              "  <thead>\n",
              "    <tr style=\"text-align: right;\">\n",
              "      <th></th>\n",
              "      <th>Tier</th>\n",
              "      <th>FICO</th>\n",
              "      <th>Approve Date</th>\n",
              "      <th>Term</th>\n",
              "      <th>Amount</th>\n",
              "      <th>Previous Rate</th>\n",
              "      <th>Car  Type</th>\n",
              "      <th>Competition rate</th>\n",
              "      <th>Accept?</th>\n",
              "      <th>Rate</th>\n",
              "      <th>Cost of Funds</th>\n",
              "      <th>Partner Bin</th>\n",
              "    </tr>\n",
              "  </thead>\n",
              "  <tbody>\n",
              "    <tr>\n",
              "      <th>0</th>\n",
              "      <td>3.0</td>\n",
              "      <td>695.0</td>\n",
              "      <td>2002-07-01</td>\n",
              "      <td>72.0</td>\n",
              "      <td>35000.0</td>\n",
              "      <td></td>\n",
              "      <td>N</td>\n",
              "      <td>6.25</td>\n",
              "      <td>0.0</td>\n",
              "      <td>7.49</td>\n",
              "      <td>1.8388</td>\n",
              "      <td>1.0</td>\n",
              "    </tr>\n",
              "    <tr>\n",
              "      <th>1</th>\n",
              "      <td>1.0</td>\n",
              "      <td>751.0</td>\n",
              "      <td>2002-07-01</td>\n",
              "      <td>60.0</td>\n",
              "      <td>40000.0</td>\n",
              "      <td></td>\n",
              "      <td>N</td>\n",
              "      <td>5.65</td>\n",
              "      <td>0.0</td>\n",
              "      <td>5.49</td>\n",
              "      <td>1.8388</td>\n",
              "      <td>3.0</td>\n",
              "    </tr>\n",
              "    <tr>\n",
              "      <th>2</th>\n",
              "      <td>1.0</td>\n",
              "      <td>731.0</td>\n",
              "      <td>2002-07-01</td>\n",
              "      <td>60.0</td>\n",
              "      <td>18064.0</td>\n",
              "      <td></td>\n",
              "      <td>N</td>\n",
              "      <td>5.65</td>\n",
              "      <td>0.0</td>\n",
              "      <td>5.49</td>\n",
              "      <td>1.8388</td>\n",
              "      <td>3.0</td>\n",
              "    </tr>\n",
              "    <tr>\n",
              "      <th>3</th>\n",
              "      <td>4.0</td>\n",
              "      <td>652.0</td>\n",
              "      <td>2002-07-01</td>\n",
              "      <td>72.0</td>\n",
              "      <td>15415.0</td>\n",
              "      <td></td>\n",
              "      <td>N</td>\n",
              "      <td>6.25</td>\n",
              "      <td>0.0</td>\n",
              "      <td>8.99</td>\n",
              "      <td>1.8388</td>\n",
              "      <td>3.0</td>\n",
              "    </tr>\n",
              "    <tr>\n",
              "      <th>4</th>\n",
              "      <td>1.0</td>\n",
              "      <td>730.0</td>\n",
              "      <td>2002-07-01</td>\n",
              "      <td>48.0</td>\n",
              "      <td>32000.0</td>\n",
              "      <td></td>\n",
              "      <td>N</td>\n",
              "      <td>5.65</td>\n",
              "      <td>0.0</td>\n",
              "      <td>5.49</td>\n",
              "      <td>1.8388</td>\n",
              "      <td>1.0</td>\n",
              "    </tr>\n",
              "  </tbody>\n",
              "</table>\n",
              "</div>\n",
              "    <div class=\"colab-df-buttons\">\n",
              "\n",
              "  <div class=\"colab-df-container\">\n",
              "    <button class=\"colab-df-convert\" onclick=\"convertToInteractive('df-d931bcb1-c561-41b9-aad4-66b24bbb3004')\"\n",
              "            title=\"Convert this dataframe to an interactive table.\"\n",
              "            style=\"display:none;\">\n",
              "\n",
              "  <svg xmlns=\"http://www.w3.org/2000/svg\" height=\"24px\" viewBox=\"0 -960 960 960\">\n",
              "    <path d=\"M120-120v-720h720v720H120Zm60-500h600v-160H180v160Zm220 220h160v-160H400v160Zm0 220h160v-160H400v160ZM180-400h160v-160H180v160Zm440 0h160v-160H620v160ZM180-180h160v-160H180v160Zm440 0h160v-160H620v160Z\"/>\n",
              "  </svg>\n",
              "    </button>\n",
              "\n",
              "  <style>\n",
              "    .colab-df-container {\n",
              "      display:flex;\n",
              "      gap: 12px;\n",
              "    }\n",
              "\n",
              "    .colab-df-convert {\n",
              "      background-color: #E8F0FE;\n",
              "      border: none;\n",
              "      border-radius: 50%;\n",
              "      cursor: pointer;\n",
              "      display: none;\n",
              "      fill: #1967D2;\n",
              "      height: 32px;\n",
              "      padding: 0 0 0 0;\n",
              "      width: 32px;\n",
              "    }\n",
              "\n",
              "    .colab-df-convert:hover {\n",
              "      background-color: #E2EBFA;\n",
              "      box-shadow: 0px 1px 2px rgba(60, 64, 67, 0.3), 0px 1px 3px 1px rgba(60, 64, 67, 0.15);\n",
              "      fill: #174EA6;\n",
              "    }\n",
              "\n",
              "    .colab-df-buttons div {\n",
              "      margin-bottom: 4px;\n",
              "    }\n",
              "\n",
              "    [theme=dark] .colab-df-convert {\n",
              "      background-color: #3B4455;\n",
              "      fill: #D2E3FC;\n",
              "    }\n",
              "\n",
              "    [theme=dark] .colab-df-convert:hover {\n",
              "      background-color: #434B5C;\n",
              "      box-shadow: 0px 1px 3px 1px rgba(0, 0, 0, 0.15);\n",
              "      filter: drop-shadow(0px 1px 2px rgba(0, 0, 0, 0.3));\n",
              "      fill: #FFFFFF;\n",
              "    }\n",
              "  </style>\n",
              "\n",
              "    <script>\n",
              "      const buttonEl =\n",
              "        document.querySelector('#df-d931bcb1-c561-41b9-aad4-66b24bbb3004 button.colab-df-convert');\n",
              "      buttonEl.style.display =\n",
              "        google.colab.kernel.accessAllowed ? 'block' : 'none';\n",
              "\n",
              "      async function convertToInteractive(key) {\n",
              "        const element = document.querySelector('#df-d931bcb1-c561-41b9-aad4-66b24bbb3004');\n",
              "        const dataTable =\n",
              "          await google.colab.kernel.invokeFunction('convertToInteractive',\n",
              "                                                    [key], {});\n",
              "        if (!dataTable) return;\n",
              "\n",
              "        const docLinkHtml = 'Like what you see? Visit the ' +\n",
              "          '<a target=\"_blank\" href=https://colab.research.google.com/notebooks/data_table.ipynb>data table notebook</a>'\n",
              "          + ' to learn more about interactive tables.';\n",
              "        element.innerHTML = '';\n",
              "        dataTable['output_type'] = 'display_data';\n",
              "        await google.colab.output.renderOutput(dataTable, element);\n",
              "        const docLink = document.createElement('div');\n",
              "        docLink.innerHTML = docLinkHtml;\n",
              "        element.appendChild(docLink);\n",
              "      }\n",
              "    </script>\n",
              "  </div>\n",
              "\n",
              "\n",
              "    <div id=\"df-ad1e43cc-5417-4382-be42-d15ec1945ea9\">\n",
              "      <button class=\"colab-df-quickchart\" onclick=\"quickchart('df-ad1e43cc-5417-4382-be42-d15ec1945ea9')\"\n",
              "                title=\"Suggest charts\"\n",
              "                style=\"display:none;\">\n",
              "\n",
              "<svg xmlns=\"http://www.w3.org/2000/svg\" height=\"24px\"viewBox=\"0 0 24 24\"\n",
              "     width=\"24px\">\n",
              "    <g>\n",
              "        <path d=\"M19 3H5c-1.1 0-2 .9-2 2v14c0 1.1.9 2 2 2h14c1.1 0 2-.9 2-2V5c0-1.1-.9-2-2-2zM9 17H7v-7h2v7zm4 0h-2V7h2v10zm4 0h-2v-4h2v4z\"/>\n",
              "    </g>\n",
              "</svg>\n",
              "      </button>\n",
              "\n",
              "<style>\n",
              "  .colab-df-quickchart {\n",
              "      --bg-color: #E8F0FE;\n",
              "      --fill-color: #1967D2;\n",
              "      --hover-bg-color: #E2EBFA;\n",
              "      --hover-fill-color: #174EA6;\n",
              "      --disabled-fill-color: #AAA;\n",
              "      --disabled-bg-color: #DDD;\n",
              "  }\n",
              "\n",
              "  [theme=dark] .colab-df-quickchart {\n",
              "      --bg-color: #3B4455;\n",
              "      --fill-color: #D2E3FC;\n",
              "      --hover-bg-color: #434B5C;\n",
              "      --hover-fill-color: #FFFFFF;\n",
              "      --disabled-bg-color: #3B4455;\n",
              "      --disabled-fill-color: #666;\n",
              "  }\n",
              "\n",
              "  .colab-df-quickchart {\n",
              "    background-color: var(--bg-color);\n",
              "    border: none;\n",
              "    border-radius: 50%;\n",
              "    cursor: pointer;\n",
              "    display: none;\n",
              "    fill: var(--fill-color);\n",
              "    height: 32px;\n",
              "    padding: 0;\n",
              "    width: 32px;\n",
              "  }\n",
              "\n",
              "  .colab-df-quickchart:hover {\n",
              "    background-color: var(--hover-bg-color);\n",
              "    box-shadow: 0 1px 2px rgba(60, 64, 67, 0.3), 0 1px 3px 1px rgba(60, 64, 67, 0.15);\n",
              "    fill: var(--button-hover-fill-color);\n",
              "  }\n",
              "\n",
              "  .colab-df-quickchart-complete:disabled,\n",
              "  .colab-df-quickchart-complete:disabled:hover {\n",
              "    background-color: var(--disabled-bg-color);\n",
              "    fill: var(--disabled-fill-color);\n",
              "    box-shadow: none;\n",
              "  }\n",
              "\n",
              "  .colab-df-spinner {\n",
              "    border: 2px solid var(--fill-color);\n",
              "    border-color: transparent;\n",
              "    border-bottom-color: var(--fill-color);\n",
              "    animation:\n",
              "      spin 1s steps(1) infinite;\n",
              "  }\n",
              "\n",
              "  @keyframes spin {\n",
              "    0% {\n",
              "      border-color: transparent;\n",
              "      border-bottom-color: var(--fill-color);\n",
              "      border-left-color: var(--fill-color);\n",
              "    }\n",
              "    20% {\n",
              "      border-color: transparent;\n",
              "      border-left-color: var(--fill-color);\n",
              "      border-top-color: var(--fill-color);\n",
              "    }\n",
              "    30% {\n",
              "      border-color: transparent;\n",
              "      border-left-color: var(--fill-color);\n",
              "      border-top-color: var(--fill-color);\n",
              "      border-right-color: var(--fill-color);\n",
              "    }\n",
              "    40% {\n",
              "      border-color: transparent;\n",
              "      border-right-color: var(--fill-color);\n",
              "      border-top-color: var(--fill-color);\n",
              "    }\n",
              "    60% {\n",
              "      border-color: transparent;\n",
              "      border-right-color: var(--fill-color);\n",
              "    }\n",
              "    80% {\n",
              "      border-color: transparent;\n",
              "      border-right-color: var(--fill-color);\n",
              "      border-bottom-color: var(--fill-color);\n",
              "    }\n",
              "    90% {\n",
              "      border-color: transparent;\n",
              "      border-bottom-color: var(--fill-color);\n",
              "    }\n",
              "  }\n",
              "</style>\n",
              "\n",
              "      <script>\n",
              "        async function quickchart(key) {\n",
              "          const quickchartButtonEl =\n",
              "            document.querySelector('#' + key + ' button');\n",
              "          quickchartButtonEl.disabled = true;  // To prevent multiple clicks.\n",
              "          quickchartButtonEl.classList.add('colab-df-spinner');\n",
              "          try {\n",
              "            const charts = await google.colab.kernel.invokeFunction(\n",
              "                'suggestCharts', [key], {});\n",
              "          } catch (error) {\n",
              "            console.error('Error during call to suggestCharts:', error);\n",
              "          }\n",
              "          quickchartButtonEl.classList.remove('colab-df-spinner');\n",
              "          quickchartButtonEl.classList.add('colab-df-quickchart-complete');\n",
              "        }\n",
              "        (() => {\n",
              "          let quickchartButtonEl =\n",
              "            document.querySelector('#df-ad1e43cc-5417-4382-be42-d15ec1945ea9 button');\n",
              "          quickchartButtonEl.style.display =\n",
              "            google.colab.kernel.accessAllowed ? 'block' : 'none';\n",
              "        })();\n",
              "      </script>\n",
              "    </div>\n",
              "\n",
              "    </div>\n",
              "  </div>\n"
            ],
            "application/vnd.google.colaboratory.intrinsic+json": {
              "type": "dataframe",
              "variable_name": "data_clean"
            }
          },
          "metadata": {},
          "execution_count": 1
        }
      ],
      "source": [
        "import pandas as pd\n",
        "import numpy as np\n",
        "import seaborn as sns\n",
        "import matplotlib.pyplot as plt\n",
        "\n",
        "# Load data\n",
        "loan_data = pd.read_excel('CU262-XLS-ENG.xlsx', 'e_Car_Data_for_Case')\n",
        "data_clean = loan_data.dropna()\n",
        "data_clean.head()"
      ]
    },
    {
      "cell_type": "markdown",
      "id": "ac637e85",
      "metadata": {
        "id": "ac637e85"
      },
      "source": [
        "\n",
        "**Task:** Briefly describe e-Car’s business model in a few sentences. What is the main decision e-Car must make when offering loans to its customers? What are some of the main sources of\n",
        "uncertainty faced by e-Car’s lending business?\n",
        "\n",
        "e‑Car is a specialized, Internet‑only auto lender—a subsidiary of a larger bank—that originates loans exclusively via its own website and partner sites, approves credit based on application data (e.g. FICO score, loan term, car type, partner channel) and then generates revenue by charging an APR on each funded loan ​\n",
        ".\n",
        "\n",
        "Its core decision for every approved applicant is what interest rate (APR) to quote (and whether to lend at all), since a higher rate boosts revenue per loan but lowers the probability the customer will accept ​\n",
        ".\n",
        "\n",
        "Major sources of uncertainty include customers’ price sensitivity (i.e. their likelihood of accepting at different rates), variability in credit risk/default (captured imperfectly by FICO bands), fluctuating funding costs and competitor rates, and changes in collateral values and broader economic conditions"
      ]
    },
    {
      "cell_type": "markdown",
      "id": "a4215b60",
      "metadata": {
        "id": "a4215b60"
      },
      "source": [
        "## Question 2 (3 pts)\n",
        "**Segment Filtering & Plots**\n",
        "1. Filter data for:\n",
        "   - Term = 60 months\n",
        "   - Used cars only\n",
        "   - Amount < $25,000\n",
        "   - 680 < FICO < 720\n",
        "2. Create `AcceptRevenue = Rate * Amount / 100`.\n",
        "3. Plot:\n",
        "   - Accept? vs Rate (with trendline)\n",
        "   - AcceptRevenue vs Rate (with trendline)"
      ]
    },
    {
      "cell_type": "code",
      "execution_count": null,
      "id": "806a05d2",
      "metadata": {
        "colab": {
          "base_uri": "https://localhost:8080/",
          "height": 1058
        },
        "id": "806a05d2",
        "outputId": "4c72cda2-52f6-408c-a0eb-fa53bb7900a1"
      },
      "outputs": [
        {
          "output_type": "stream",
          "name": "stdout",
          "text": [
            "['Tier', 'FICO', 'Approve Date', 'Term', 'Amount', 'Previous Rate', 'Car  Type', 'Competition rate', 'Accept?', 'Rate', 'Cost of Funds', 'Partner Bin']\n"
          ]
        },
        {
          "output_type": "display_data",
          "data": {
            "text/plain": [
              "<Figure size 500x500 with 1 Axes>"
            ],
            "image/png": "[encoded data removed]"
          },
          "metadata": {}
        },
        {
          "output_type": "display_data",
          "data": {
            "text/plain": [
              "<Figure size 500x500 with 1 Axes>"
            ],
            "image/png": "[encoded data removed]"
          },
          "metadata": {}
        }
      ],
      "source": [
        "# Q2: Segment filtering example\n",
        "print(data_clean.columns.tolist())\n",
        "segment = data_clean[\n",
        "    (data_clean['Term'] == 60) &\n",
        "    (data_clean['Car  Type'] == 'U') &\n",
        "    (data_clean['Amount'] < 25000) &\n",
        "    (data_clean['FICO'] > 680) &\n",
        "    (data_clean['FICO'] < 720)\n",
        "].copy()\n",
        "\n",
        "segment['AcceptRevenue'] = segment['Rate'] * segment['Amount'] / 100\n",
        "\n",
        "# Plot examples\n",
        "sns.lmplot(x='Rate', y='Accept?', data=segment)\n",
        "plt.title('Accept? vs Rate')\n",
        "plt.show()\n",
        "\n",
        "sns.lmplot(x='Rate', y='AcceptRevenue', data=segment)\n",
        "plt.title('AcceptRevenue vs Rate')\n",
        "plt.show()"
      ]
    },
    {
      "cell_type": "markdown",
      "id": "6a8445cd",
      "metadata": {
        "id": "6a8445cd"
      },
      "source": [
        "**Interpretation:**\n",
        "\n",
        "Higher APRs → More revenue per funded loan (AcceptRevenue rises with Rate)\n",
        "\n",
        "Higher APRs → Fewer customers take the loan (Accept? falls as Rate increases)\n",
        "\n",
        "So e‑Car must balance rate level (margin) against acceptance probability (volume) to maximize expected revenue."
      ]
    },
    {
      "cell_type": "markdown",
      "id": "bee3f740",
      "metadata": {
        "id": "bee3f740"
      },
      "source": [
        "\n",
        "**Rate Distribution**\n",
        "Create a histogram of the rates offered by e-Car, setting a bin width of 0.5%. Are there outliers? Remove the top 2% and bottom 2% for all the subsequent analysis. Approximately what rate\n",
        "is most commonly offered by eCar for this customer segment?\n",
        "\n",
        "***Most common rate: 5.89***"
      ]
    },
    {
      "cell_type": "code",
      "execution_count": null,
      "id": "1b7ce067",
      "metadata": {
        "colab": {
          "base_uri": "https://localhost:8080/",
          "height": 489
        },
        "id": "1b7ce067",
        "outputId": "5c2b77e4-ce31-498a-ea08-b3f2dec176e1"
      },
      "outputs": [
        {
          "output_type": "display_data",
          "data": {
            "text/plain": [
              "<Figure size 640x480 with 1 Axes>"
            ],
            "image/png": "[encoded data removed]"
          },
          "metadata": {}
        },
        {
          "output_type": "stream",
          "name": "stdout",
          "text": [
            "Most common rate: 5.89\n"
          ]
        }
      ],
      "source": [
        "# Q3: Histogram and outlier removal\n",
        "w = 0.5\n",
        "bins = np.arange(segment['Rate'].min(), segment['Rate'].max() + w, w)\n",
        "plt.hist(segment['Rate'], bins=bins, edgecolor='black')\n",
        "plt.title('Rate Distribution')\n",
        "plt.xlabel('Rate')\n",
        "plt.ylabel('Frequency')\n",
        "plt.show()\n",
        "\n",
        "# Remove extremes\n",
        "lower, upper = segment['Rate'].quantile([0.02, 0.98])\n",
        "seg_filtered = segment[(segment['Rate'] >= lower) & (segment['Rate'] <= upper)]\n",
        "print(\"Most common rate:\", seg_filtered['Rate'].mode()[0])"
      ]
    },
    {
      "cell_type": "markdown",
      "id": "2ad69303",
      "metadata": {
        "id": "2ad69303"
      },
      "source": [
        "\n",
        "**Logistic Regression on Rate**\n",
        "\n",
        "Use logistic regression to predict the probability that a customer accepts the loan offer using only the Rate feature. Create a new column called ProbAccept which represents the predicted\n",
        "probability of the customer accepting the loan offer based on their offered rate. Next, add another column\n",
        "called ExpectedRevenue, where ExpectedRevenue = (ProbAccept * Rate * Amount)/100. What is the\n",
        "average of the ExpectedRevenue column? In one sentence, what does this value represent? For this\n",
        "question in particular, with a little abuse of the machine learning process, train your logistic regression model and predict using the entire dataset without splitting.\n",
        "\n",
        "\n",
        "**This $550.59 is the mean expected revenue per loan offer for this customer segment—i.e. the average of (PredictedAcceptanceProbability×QuotedRate×LoanAmount/100) when training and predicting on the full dataset**"
      ]
    },
    {
      "cell_type": "code",
      "execution_count": null,
      "id": "5ec7de4b",
      "metadata": {
        "colab": {
          "base_uri": "https://localhost:8080/"
        },
        "id": "5ec7de4b",
        "outputId": "1dd36172-8f2b-40f3-81e4-25151cc7dbaa"
      },
      "outputs": [
        {
          "output_type": "stream",
          "name": "stdout",
          "text": [
            "Average ExpectedRevenue: 550.5903123539402\n"
          ]
        }
      ],
      "source": [
        "# Make seg_filtered an explicit copy\n",
        "seg_filtered = seg_filtered.copy()\n",
        "\n",
        "# Q4: Logistic regression example\n",
        "from sklearn.linear_model import LogisticRegression\n",
        "\n",
        "# Features & target on the entire (outlier‑removed) segment\n",
        "X = seg_filtered[['Rate']]\n",
        "y = seg_filtered['Accept?']\n",
        "\n",
        "# Train on the entire dataset\n",
        "model = LogisticRegression()\n",
        "model.fit(X, y)\n",
        "\n",
        "# Predict acceptance probability\n",
        "seg_filtered['ProbAccept'] = model.predict_proba(X)[:, 1]\n",
        "\n",
        "# Compute expected revenue per offer\n",
        "seg_filtered['ExpectedRevenue'] = seg_filtered['ProbAccept'] * seg_filtered['Rate'] * seg_filtered['Amount'] / 100\n",
        "\n",
        "# Print the average\n",
        "avg_rev = seg_filtered['ExpectedRevenue'].mean()\n",
        "print(\"Average ExpectedRevenue:\", avg_rev)"
      ]
    },
    {
      "cell_type": "markdown",
      "id": "2156deab",
      "metadata": {
        "id": "2156deab"
      },
      "source": [
        "\n",
        "Based on the results of your logistic regression model, is there an alternative rate\n",
        "that might boost expected revenue when offered to all customers in the segment? What rate do you\n",
        "recommend, and what is the potential revenue improvement associated with your recommendation?\n",
        "\n",
        "Hint 1: for selecting an alternative rate, you can create a scatterplot of ExpectedRevenue v.s.\n",
        "Rate, and eyeball one rate that maximizes expected revenue\n",
        "\n",
        "Hint 2: To calculate the potential revenue improvement, you can use the logistic regression model\n",
        "trained in question 4 to predict ProbAccept with rate replaced by the alternative rate.\n",
        "\n",
        "Based on our logistic‐regression results:\n",
        "- **Recommended APR:** 5.1%  \n",
        "- **Average expected revenue at 5.1%:** \\$682.79  \n",
        "- **Current average expected revenue:** \\$550.59  \n",
        "- **Potential improvement:** \\$132.20 per offer (24.0% increase)"
      ]
    },
    {
      "cell_type": "code",
      "source": [
        "# Q5: Identify an alternative rate to maximize expected revenue\n",
        "import numpy as np\n",
        "import pandas as pd\n",
        "\n",
        "# Define a grid of candidate rates (e.g., from 4.0% to 8.5% in 0.1% increments)\n",
        "candidate_rates = np.arange(4.0, 8.6, 0.1)\n",
        "\n",
        "avg_revenues = []\n",
        "for r in candidate_rates:\n",
        "    # Predict acceptance probability at this flat rate for all customers\n",
        "    prob = model.predict_proba(pd.DataFrame({'Rate': [r] * len(seg_filtered)}))[:, 1]\n",
        "    # Compute expected revenue for each customer at rate r\n",
        "    exp_rev = prob * r * seg_filtered['Amount'] / 100\n",
        "    # Store the average expected revenue\n",
        "    avg_revenues.append(exp_rev.mean())\n",
        "\n",
        "# Find the rate that maximizes average expected revenue\n",
        "best_idx = int(np.argmax(avg_revenues))\n",
        "best_rate = candidate_rates[best_idx]\n",
        "best_avg_rev = avg_revenues[best_idx]\n",
        "\n",
        "# Compare to current policy\n",
        "current_avg_rev = seg_filtered['ExpectedRevenue'].mean()\n",
        "absolute_improvement = best_avg_rev - current_avg_rev\n",
        "percent_improvement = absolute_improvement / current_avg_rev * 100\n",
        "\n",
        "print(f\"Recommended APR: {best_rate:.1f}%\")\n",
        "print(f\"Average expected revenue at {best_rate:.1f}%: ${best_avg_rev:.2f}\")\n",
        "print(f\"Current average expected revenue: ${current_avg_rev:.2f}\")\n",
        "print(f\"Potential improvement: ${absolute_improvement:.2f} per offer ({percent_improvement:.1f}% increase)\")"
      ],
      "metadata": {
        "colab": {
          "base_uri": "https://localhost:8080/"
        },
        "id": "6BVT6Y6jUtCp",
        "outputId": "a48878f1-b8d8-49b5-b288-774a9c452831"
      },
      "id": "6BVT6Y6jUtCp",
      "execution_count": null,
      "outputs": [
        {
          "output_type": "stream",
          "name": "stdout",
          "text": [
            "Recommended APR: 5.1%\n",
            "Average expected revenue at 5.1%: $682.79\n",
            "Current average expected revenue: $550.59\n",
            "Potential improvement: $132.20 per offer (24.0% increase)\n"
          ]
        }
      ]
    },
    {
      "cell_type": "markdown",
      "id": "235410ca",
      "metadata": {
        "id": "235410ca"
      },
      "source": [
        "Let’s refine the prediction model by including more features and experiment\n",
        "with other ML models. Try out at least four different ML models other than Logistic regression using the\n",
        "features FICO score, Loan amount approved, Competition rate, Rate, Cost of Funds, and partner bin to\n",
        "predict whether a customer accepts the loan offer. Required steps:\n",
        "1. Split your data into training, validation, and testing sets. You can decide the proportion, as long as\n",
        "it’s reasonable\n",
        "2. Feature scaling whenever necessary\n",
        "3. Hyperparameter tuning using cross validation (If you choose ANN, you only need to fine tune the\n",
        "number of epochs without using cross validation like we did in class)\n",
        "4. Select the best model.\n",
        "**Advanced Modeling**\n",
        "- Features: FICO, Amount, CompetitionRate, Rate, CostOfFunds, PartnerBIN\n",
        "- Apply ≥4 ML models (non-logistic).\n",
        "- Train/val/test split, scaling, hyperparameter tuning.\n",
        "- Select best model.\n",
        "\n",
        "<Your code and analysis here>"
      ]
    },
    {
      "cell_type": "markdown",
      "source": [
        "1."
      ],
      "metadata": {
        "id": "G3zOlmbRbrFf"
      },
      "id": "G3zOlmbRbrFf"
    },
    {
      "cell_type": "code",
      "source": [
        "import pandas as pd\n",
        "import numpy as np\n",
        "import time\n",
        "from collections import Counter\n",
        "\n",
        "from sklearn.model_selection import train_test_split, GridSearchCV\n",
        "from sklearn.preprocessing import StandardScaler, OneHotEncoder\n",
        "from sklearn.compose import ColumnTransformer\n",
        "from sklearn.pipeline import Pipeline\n",
        "from sklearn.metrics import accuracy_score, roc_auc_score\n",
        "\n",
        "from sklearn.tree import DecisionTreeClassifier\n",
        "from sklearn.ensemble import RandomForestClassifier, GradientBoostingClassifier\n",
        "from sklearn.svm import SVC\n",
        "from sklearn.neighbors import KNeighborsClassifier\n",
        "\n",
        "# 1) Define features & target\n",
        "features = ['FICO', 'Amount', 'Competition rate', 'Rate', 'Cost of Funds', 'Partner Bin']\n",
        "X = seg_filtered[features]\n",
        "y = seg_filtered['Accept?']\n",
        "\n",
        "# 2) Show class imbalance\n",
        "print(\"Overall class counts:\", Counter(y))\n",
        "\n",
        "# 3) Train / validation / test split (60/20/20)\n",
        "X_temp, X_test, y_temp, y_test = train_test_split(\n",
        "    X, y, test_size=0.20, stratify=y, random_state=42\n",
        ")\n",
        "X_train, X_val, y_train, y_val = train_test_split(\n",
        "    X_temp, y_temp, test_size=0.25, stratify=y_temp, random_state=42\n",
        ")\n",
        "print(\"  Train:\", Counter(y_train))\n",
        "print(\"    Val:\", Counter(y_val))\n",
        "print(\"   Test:\", Counter(y_test))\n",
        "\n",
        "# 4) Preprocessing: scale numerics, one-hot encode partner bin\n",
        "numeric_features = ['FICO', 'Amount', 'Competition rate', 'Rate', 'Cost of Funds']\n",
        "numeric_transformer = StandardScaler()\n",
        "categorical_features = ['Partner Bin']\n",
        "categorical_transformer = OneHotEncoder(drop='first')\n",
        "\n",
        "preprocessor = ColumnTransformer([\n",
        "    ('num', numeric_transformer, numeric_features),\n",
        "    ('cat', categorical_transformer, categorical_features),\n",
        "])\n",
        "\n",
        "best_models = {}\n",
        "# 5) Models & hyperparameter grids\n",
        "models = {\n",
        "    'Decision Tree':         DecisionTreeClassifier(random_state=42),\n",
        "    'Random Forest':         RandomForestClassifier(random_state=42),\n",
        "    'Gradient Boosting':     GradientBoostingClassifier(random_state=42),\n",
        "    'SVM':                   SVC(probability=True, random_state=42),\n",
        "    'KNN':                   KNeighborsClassifier()\n",
        "}\n",
        "\n",
        "param_grids = {\n",
        "    'Decision Tree': {\n",
        "        'model__max_depth': [3, 5, None],\n",
        "        'model__min_samples_split': [2, 10]\n",
        "    },\n",
        "    'Random Forest': {\n",
        "        'model__n_estimators': [50, 100],\n",
        "        'model__max_depth': [5, 15, None]\n",
        "    },\n",
        "    'Gradient Boosting': {\n",
        "        'model__n_estimators': [50, 100],\n",
        "        'model__learning_rate': [0.01, 0.1],\n",
        "        'model__max_depth': [3, 5]\n",
        "    },\n",
        "    'SVM': {\n",
        "        'model__C': [0.1, 1, 10],\n",
        "        'model__kernel': ['linear', 'rbf']\n",
        "    },\n",
        "    'KNN': {\n",
        "        'model__n_neighbors': [3, 5, 7]\n",
        "    }\n",
        "}\n",
        "\n",
        "# 6) Grid search + evaluation\n",
        "for name, estimator in models.items():\n",
        "    print(f\"\\n=== {name} ===\")\n",
        "    pipe = Pipeline([\n",
        "        ('preproc', preprocessor),\n",
        "        ('model', estimator)\n",
        "    ])\n",
        "    grid = GridSearchCV(\n",
        "        pipe,\n",
        "        param_grids[name],\n",
        "        cv=5,\n",
        "        scoring='roc_auc',\n",
        "        n_jobs=-1\n",
        "    )\n",
        "\n",
        "    t0 = time.time()\n",
        "    grid.fit(X_train, y_train)\n",
        "    print(f\"GridSearch fit time: {time.time() - t0:.2f}s\")\n",
        "\n",
        "    best_models[name] = grid.best_estimator_\n",
        "    print(\" Best params:\", grid.best_params_)\n",
        "\n",
        "    for split_name, (X_split, y_split) in [\n",
        "        ('Train', (X_train, y_train)),\n",
        "        ('Val',   (X_val,   y_val)),\n",
        "        ('Test',  (X_test,  y_test))\n",
        "    ]:\n",
        "        preds = best_models[name].predict(X_split)\n",
        "        probs = best_models[name].predict_proba(X_split)[:, 1]\n",
        "        acc  = accuracy_score(y_split, preds)\n",
        "        auc  = roc_auc_score(y_split, probs)\n",
        "        print(f\"  {split_name:>4} ACC: {acc:.3f} | AUC: {auc:.3f}\")\n"
      ],
      "metadata": {
        "colab": {
          "base_uri": "https://localhost:8080/"
        },
        "id": "DDmp41VbkKcD",
        "outputId": "60216c4c-5e47-4e93-e995-8db76c44547e"
      },
      "id": "DDmp41VbkKcD",
      "execution_count": null,
      "outputs": [
        {
          "output_type": "stream",
          "name": "stdout",
          "text": [
            "Overall class counts: Counter({1.0: 2160, 0.0: 1645})\n",
            "  Train: Counter({1.0: 1296, 0.0: 987})\n",
            "    Val: Counter({1.0: 432, 0.0: 329})\n",
            "   Test: Counter({1.0: 432, 0.0: 329})\n",
            "\n",
            "=== Decision Tree ===\n",
            "GridSearch fit time: 2.94s\n",
            " Best params: {'model__max_depth': 5, 'model__min_samples_split': 2}\n",
            "  Train ACC: 0.818 | AUC: 0.899\n",
            "   Val ACC: 0.819 | AUC: 0.883\n",
            "  Test ACC: 0.786 | AUC: 0.862\n",
            "\n",
            "=== Random Forest ===\n",
            "GridSearch fit time: 7.17s\n",
            " Best params: {'model__max_depth': 5, 'model__n_estimators': 100}\n",
            "  Train ACC: 0.823 | AUC: 0.909\n",
            "   Val ACC: 0.817 | AUC: 0.908\n",
            "  Test ACC: 0.808 | AUC: 0.889\n",
            "\n",
            "=== Gradient Boosting ===\n",
            "GridSearch fit time: 11.09s\n",
            " Best params: {'model__learning_rate': 0.1, 'model__max_depth': 3, 'model__n_estimators': 100}\n",
            "  Train ACC: 0.853 | AUC: 0.939\n",
            "   Val ACC: 0.833 | AUC: 0.913\n",
            "  Test ACC: 0.815 | AUC: 0.901\n",
            "\n",
            "=== SVM ===\n",
            "GridSearch fit time: 16.68s\n",
            " Best params: {'model__C': 0.1, 'model__kernel': 'rbf'}\n",
            "  Train ACC: 0.798 | AUC: 0.871\n",
            "   Val ACC: 0.819 | AUC: 0.893\n",
            "  Test ACC: 0.800 | AUC: 0.871\n",
            "\n",
            "=== KNN ===\n",
            "GridSearch fit time: 0.28s\n",
            " Best params: {'model__n_neighbors': 7}\n",
            "  Train ACC: 0.818 | AUC: 0.911\n",
            "   Val ACC: 0.804 | AUC: 0.866\n",
            "  Test ACC: 0.794 | AUC: 0.850\n"
          ]
        }
      ]
    },
    {
      "cell_type": "markdown",
      "source": [
        "## Our thought process\n",
        "\n",
        "1. **Gradient Boosting** achieves the highest AUC (0.913 on val, 0.901 on test) but requires the longest tuning time (~11.09 s).  \n",
        "2. **Random Forest** delivers nearly the same AUC (0.908 val, 0.889 test) in almost half the time (~7.17 s).  \n",
        "3. **Decision Tree** and **KNN** tune very quickly (<3 s) but at the cost of lower AUC (≤0.883 val).  \n",
        "4. **SVM** takes the longest (16.68 s) without outperforming the tree ensembles.\n",
        "\n",
        "---\n",
        "\n",
        "## Final Recommendation\n",
        "\n",
        "> We choose **Random Forest** (`n_estimators=100`, `max_depth=5`) because it offers almost top‐tier ROC‐AUC performance while keeping hyperparameter‐search time moderate (7.17 s), striking the best balance between predictive power and computational cost.  "
      ],
      "metadata": {
        "id": "j0WreSL3wOVb"
      },
      "id": "j0WreSL3wOVb"
    },
    {
      "cell_type": "markdown",
      "id": "9e9245c8",
      "metadata": {
        "id": "9e9245c8"
      },
      "source": [
        "\n",
        "**Single-Customer APR Optimization**\n",
        "1. Select random test-set customer.\n",
        "2. Vary `Rate` from 4.0 to 8.5 by 0.1.\n",
        "3. Predict `ProbAccept` with best model.\n",
        "4. Compute `ExpectedRevenue` for each.\n",
        "5. Find optimal rate and compare to original."
      ]
    },
    {
      "cell_type": "code",
      "source": [
        "#Q7 - Single Customer APR Optimization\n",
        "\n",
        "# Select random test‐set customer\n",
        "test_customer = np.random.choice(X_test.index, size=1)[0]\n",
        "random_customer = X_test.loc[[test_customer]].copy()\n",
        "\n",
        "# Rates from 4.0 to 8.5\n",
        "rates = np.arange(4.0, 8.6, 0.1)\n",
        "customer = pd.concat([random_customer] * len(rates), ignore_index=True)\n",
        "customer['Rate'] = rates\n",
        "\n",
        "# Predict ProbAccept\n",
        "model = best_models['Random Forest']\n",
        "ProbAccept = model.predict_proba(customer)[:, 1]\n",
        "\n",
        "# ExpectedRevenue\n",
        "ExpectedRevenue = ProbAccept * (customer['Rate'] / 100) * customer['Amount']\n",
        "\n",
        "# Optimal VS Original\n",
        "results = pd.DataFrame({\n",
        "    'Rate': rates,\n",
        "    'ProbAccept': ProbAccept,\n",
        "    'ExpectedRevenue': ExpectedRevenue\n",
        "})\n",
        "best_row = results.loc[results['ExpectedRevenue'].idxmax()]\n",
        "\n",
        "# Quoted APR\n",
        "apr_quote = random_customer.copy()\n",
        "apr_quote['Rate'] = X_test.loc[test_customer, 'Rate']\n",
        "pred_quote = model.predict_proba(apr_quote)[:,1]\n",
        "rev_quote = pred_quote * (apr_quote['Rate']/100) * apr_quote['Amount']\n",
        "print(f\"Revenue for Quoted APR ({apr_quote['Rate'].iloc[0]:.2f}%): ${rev_quote.iloc[0]:.2f}\")\n",
        "\n",
        "print(f\"\"\"\n",
        "Customer index: {test_customer}\n",
        "Original customer profile:\n",
        "{random_customer.iloc[0]}\n",
        "Original APR: {X_test.loc[test_customer, 'Rate']:.2f}%\n",
        "Optimal APR: {best_row['Rate']:.2f}%\n",
        "Probability to accept at optimal: {best_row['ProbAccept']:.3f}\n",
        "Expected revenue: ${best_row['ExpectedRevenue']:.2f}\n",
        "\"\"\")"
      ],
      "metadata": {
        "colab": {
          "base_uri": "https://localhost:8080/"
        },
        "id": "WdvPxkNIk4G5",
        "outputId": "d0c5f527-f770-4c5d-aabd-65f82d03e5e1"
      },
      "id": "WdvPxkNIk4G5",
      "execution_count": null,
      "outputs": [
        {
          "output_type": "stream",
          "name": "stdout",
          "text": [
            "Revenue for Quoted APR (6.63%): $212.79\n",
            "\n",
            "Customer index: 206868\n",
            "Original customer profile:\n",
            "FICO                  707.00\n",
            "Amount              23999.00\n",
            "Competition rate        4.79\n",
            "Rate                    6.63\n",
            "Cost of Funds           2.10\n",
            "Partner Bin             2.00\n",
            "Name: 206868, dtype: float64\n",
            "Original APR: 6.63%\n",
            "Optimal APR: 5.60%\n",
            "Probability to accept at optimal: 0.452\n",
            "Expected revenue: $608.10\n",
            "\n"
          ]
        }
      ]
    },
    {
      "cell_type": "code",
      "source": [
        "\n",
        "\n",
        "# 1) Prepare four lists to collect results\n",
        "quoted_rates = []\n",
        "quoted_revs  = []\n",
        "opt_rates    = []\n",
        "opt_revs     = []\n",
        "\n",
        "# 2) Loop over every customer in X_test\n",
        "for idx in X_test.index:\n",
        "    # a) Grab their one‑row DataFrame\n",
        "    cust0 = X_test.loc[[idx]].copy()\n",
        "\n",
        "    # b) Sweep APRs 4.0 → 8.5\n",
        "    rates    = np.arange(4.0, 8.6, 0.1)\n",
        "    sweep    = pd.concat([cust0] * len(rates), ignore_index=True)\n",
        "    sweep['Rate'] = rates\n",
        "\n",
        "    # c) Predict acceptance & compute expected revenue for each rate\n",
        "    probs       = best_models['Random Forest'].predict_proba(sweep)[:, 1]\n",
        "    exp_rev     = probs * (sweep['Rate']/100) * sweep['Amount']\n",
        "\n",
        "    # d) Find the optimal rate & its revenue\n",
        "    best_idx    = exp_rev.idxmax()\n",
        "    opt_r       = rates[best_idx]\n",
        "    opt_revenue = exp_rev.iloc[best_idx]\n",
        "\n",
        "    # e) Compute revenue at the quoted APR\n",
        "    quoted_r    = X_test.loc[idx, 'Rate']\n",
        "    # build a single‑row DF at that rate\n",
        "    quote_df    = cust0.copy()\n",
        "    quote_df['Rate'] = quoted_r\n",
        "    p_quote     = best_models['Random Forest'].predict_proba(quote_df)[:, 1][0]\n",
        "    q_revenue   = p_quote * (quoted_r/100) * cust0['Amount'].iloc[0]\n",
        "\n",
        "    # f) Store results\n",
        "    quoted_rates.append(quoted_r)\n",
        "    quoted_revs .append(q_revenue)\n",
        "    opt_rates   .append(opt_r)\n",
        "    opt_revs    .append(opt_revenue)\n",
        "\n",
        "# 3) Summarize\n",
        "summary = pd.DataFrame({\n",
        "    'quoted_rate': quoted_rates,\n",
        "    'quoted_rev':  quoted_revs,\n",
        "    'opt_rate':    opt_rates,\n",
        "    'opt_rev':     opt_revs\n",
        "})\n",
        "\n",
        "print(summary.describe())\n",
        "\n",
        "# 4) Compute key trends\n",
        "delta_r  = summary['opt_rate']  - summary['quoted_rate']\n",
        "delta_rev= summary['opt_rev']   - summary['quoted_rev']\n",
        "\n",
        "print(f\"Mean ΔAPR:           {delta_r.mean():.2f} pp\")\n",
        "print(f\"Fraction ↑APR:       {(delta_r>0).mean():.2%}\")\n",
        "print(f\"Avg revenue uplift:  ${delta_rev.mean():.2f}\")\n",
        "print(f\"Avg % uplift:        {(delta_rev/summary['quoted_rev']).mean():.1%}\")"
      ],
      "metadata": {
        "colab": {
          "base_uri": "https://localhost:8080/"
        },
        "id": "QuAEUT52QVHW",
        "outputId": "c8417353-5af3-4404-e122-dfb1f1278b49"
      },
      "id": "QuAEUT52QVHW",
      "execution_count": null,
      "outputs": [
        {
          "output_type": "stream",
          "name": "stdout",
          "text": [
            "       quoted_rate   quoted_rev    opt_rate      opt_rev\n",
            "count   761.000000   761.000000  761.000000   761.000000\n",
            "mean      6.230749   510.579435    6.250723   707.315230\n",
            "std       1.252331   191.561926    1.269968   170.101901\n",
            "min       4.340000   147.940738    5.200000   246.420029\n",
            "25%       5.150000   387.667262    5.500000   592.193986\n",
            "50%       6.140000   476.238254    5.600000   704.127267\n",
            "75%       6.590000   630.302811    5.600000   813.399204\n",
            "max       8.650000  1154.086488    8.500000  1195.210546\n",
            "Mean ΔAPR:           0.02 pp\n",
            "Fraction ↑APR:       43.36%\n",
            "Avg revenue uplift:  $196.74\n",
            "Avg % uplift:        52.9%\n"
          ]
        }
      ]
    },
    {
      "cell_type": "markdown",
      "source": [
        "\n",
        "\n",
        "#### 1) Is the optimal rate the same as the rate originally quoted to the customer?  \n",
        "No. For the randomly-selected customer (index **206868**) the original quoted APR is **6.63 %**, while the model identifies **5.60 %** as the revenue-maximizing APR.\n",
        "\n",
        "#### 2) How does the expected revenue at the optimal rate compare with that at the quoted rate?\n",
        "\n",
        "| APR scenario   | Prob Accept | Expected revenue |\n",
        "|----------------|-------------|------------------|\n",
        "| Quoted 6.63 %  | 0.134       | \\$212.79         |\n",
        "| Optimal 5.60 % | 0.452       | \\$608.10         |\n",
        "\n",
        "- **Dollar uplift:** \\$608.10 − \\$212.79 = **\\$395.31**  \n",
        "- **Percentage uplift:** (395.31 / 212.79) × 100 ≈ **185.8 %**\n",
        "\n",
        "#### 3) Is there an opportunity to enhance revenue generation through ML-driven pricing?  \n",
        "Yes. For this one customer, lowering the APR from 6.63 % to 5.60 % boosts expected revenue by about \\$395 (≈ 186 %), demonstrating substantial upside from personalized APR optimization.\n"
      ],
      "metadata": {
        "id": "tSY8EbHK7el6"
      },
      "id": "tSY8EbHK7el6"
    },
    {
      "cell_type": "markdown",
      "id": "5b1ff0aa",
      "metadata": {
        "id": "5b1ff0aa"
      },
      "source": [
        "\n",
        "**Portfolio-Level APR Optimization**"
      ]
    },
    {
      "cell_type": "code",
      "source": [
        "\n",
        "# 1. Best model and test set\n",
        "model = best_models['Random Forest']  # your fitted pipeline\n",
        "test_customers = X_test.copy()         # held‑out test features\n",
        "\n",
        "# 2. Define APR grid\n",
        "rates = np.arange(4.0, 8.6, 0.1)\n",
        "\n",
        "# 3. Initialize revenue totals\n",
        "orig_total = 0.0\n",
        "opt_total  = 0.0\n",
        "\n",
        "# 4. Loop over every test customer\n",
        "for idx, cust in test_customers.iterrows():\n",
        "    # a) original expected revenue\n",
        "    cust_df    = pd.DataFrame([cust])\n",
        "    ProbAccept = model.predict_proba(cust_df)[:, 1][0]\n",
        "    OrigRev    = ProbAccept * (cust['Rate'] / 100) * cust['Amount']\n",
        "\n",
        "    # b) sweep APRs to find best expected revenue\n",
        "    BestRev = OrigRev\n",
        "    for r in rates:\n",
        "        cust_df['Rate'] = r\n",
        "        p = model.predict_proba(cust_df)[:, 1][0]\n",
        "        rev = p * (r / 100) * cust['Amount']\n",
        "        if rev > BestRev:\n",
        "            BestRev = rev\n",
        "\n",
        "    # c) accumulate totals\n",
        "    orig_total += OrigRev\n",
        "    opt_total  += BestRev\n",
        "\n",
        "# 5. Summarize improvement\n",
        "improvement  = opt_total - orig_total\n",
        "pct_lift     = (improvement / orig_total) * 100\n",
        "\n",
        "print(f\"Total original revenue:  ${orig_total:,.2f}\")\n",
        "print(f\"Total optimized revenue: ${opt_total:,.2f}\")\n",
        "print(f\"Revenue improvement:      ${improvement:,.2f} ({pct_lift:.2f}% lift)\")\n"
      ],
      "metadata": {
        "colab": {
          "base_uri": "https://localhost:8080/"
        },
        "id": "QRf2LPYryFUy",
        "outputId": "4fea414d-b65b-44da-a505-509992e3f141"
      },
      "id": "QRf2LPYryFUy",
      "execution_count": null,
      "outputs": [
        {
          "output_type": "stream",
          "name": "stdout",
          "text": [
            "Total original revenue:  $388,550.95\n",
            "Total optimized revenue: $538,555.57\n",
            "Revenue improvement:      $150,004.62 (38.61% lift)\n"
          ]
        }
      ]
    },
    {
      "cell_type": "markdown",
      "id": "f7802e2c",
      "metadata": {
        "id": "f7802e2c"
      },
      "source": [
        "\n",
        "**Additional Insights**\n",
        "Explore data for other insights (positive or surprising). Describe findings."
      ]
    },
    {
      "cell_type": "code",
      "source": [
        "# --- Q9: add RateDiff without collinearity ----------------------------------\n",
        "\n",
        "from sklearn.tree import plot_tree\n",
        "import matplotlib.pyplot as plt\n",
        "\n",
        "# 1. add RateDiff and DROP 'Rate' from the model feature list\n",
        "seg_q9 = seg_filtered.copy()\n",
        "seg_q9[\"RateDiff\"] = seg_q9[\"Rate\"] - seg_q9[\"Competition rate\"]\n",
        "\n",
        "features_q9 = [\n",
        "    \"FICO\",\n",
        "    \"Amount\",\n",
        "    \"Competition rate\",   # keep competitor rate\n",
        "    \"Cost of Funds\",\n",
        "    \"Partner Bin\",\n",
        "    \"RateDiff\"            # new feature\n",
        "]\n",
        "X_q9 = seg_q9[features_q9]\n",
        "y_q9 = seg_q9[\"Accept?\"]\n",
        "\n",
        "# 2. stratified split (60 / 20 / 20)\n",
        "X_tmp, X_test_q9, y_tmp, y_test_q9 = train_test_split(\n",
        "    X_q9, y_q9, test_size=0.20, stratify=y_q9, random_state=42\n",
        ")\n",
        "X_train_q9, X_val_q9, y_train_q9, y_val_q9 = train_test_split(\n",
        "    X_tmp, y_tmp, test_size=0.25, stratify=y_tmp, random_state=42\n",
        ")\n",
        "\n",
        "# 3. preprocessing\n",
        "num_cols = [\"FICO\", \"Amount\", \"Competition rate\", \"Cost of Funds\", \"RateDiff\"]\n",
        "cat_cols = [\"Partner Bin\"]\n",
        "\n",
        "preproc_q9 = ColumnTransformer([\n",
        "    (\"num\", StandardScaler(), num_cols),\n",
        "    (\"cat\", OneHotEncoder(drop=\"first\"), cat_cols)\n",
        "])\n",
        "\n",
        "# 4. fit Random-Forest (same hyper-params as Q6)\n",
        "rf_q9 = Pipeline([\n",
        "    (\"preproc\", preproc_q9),\n",
        "    (\"model\",  RandomForestClassifier(n_estimators=100, max_depth=5, random_state=42))\n",
        "]).fit(X_train_q9, y_train_q9)\n",
        "\n",
        "# 5. AUCs\n",
        "val_auc_q9  = roc_auc_score(y_val_q9,  rf_q9.predict_proba(X_val_q9)[:, 1])\n",
        "test_auc_q9 = roc_auc_score(y_test_q9, rf_q9.predict_proba(X_test_q9)[:, 1])\n",
        "\n",
        "print(f\"Validation AUC (RateDiff / no Rate): {val_auc_q9:.4f}\")\n",
        "print(f\"Test AUC       (RateDiff / no Rate): {test_auc_q9:.4f}\")\n",
        "\n",
        "tree_pipe = Pipeline([\n",
        "    (\"preproc\", preproc_q9),                       # same scaler+OHE as RF\n",
        "    (\"model\",  DecisionTreeClassifier(max_depth=3,\n",
        "                                      random_state=42))\n",
        "]).fit(X_train_q9, y_train_q9)\n",
        "\n",
        "\n",
        "feat_names = np.r_[\n",
        "    num_cols,\n",
        "    tree_pipe.named_steps[\"preproc\"]\n",
        "             .named_transformers_[\"cat\"]\n",
        "             .get_feature_names_out(cat_cols)\n",
        "]\n",
        "\n",
        "plt.figure(figsize=(11,6))\n",
        "plot_tree(tree_pipe.named_steps[\"model\"],\n",
        "          feature_names=feat_names,\n",
        "          class_names=[\"Reject\",\"Accept\"],\n",
        "          filled=True, rounded=True)\n",
        "plt.title(\"Depth-3 Decision Tree • key splits with RateDiff\")\n",
        "plt.show()\n",
        "\n"
      ],
      "metadata": {
        "colab": {
          "base_uri": "https://localhost:8080/",
          "height": 556
        },
        "id": "PZup4sDuO_1H",
        "outputId": "023ebe93-64eb-4b53-a20c-a040bd64d8c0"
      },
      "id": "PZup4sDuO_1H",
      "execution_count": null,
      "outputs": [
        {
          "output_type": "stream",
          "name": "stdout",
          "text": [
            "Validation AUC (RateDiff / no Rate): 0.9072\n",
            "Test AUC       (RateDiff / no Rate): 0.8963\n"
          ]
        },
        {
          "output_type": "display_data",
          "data": {
            "text/plain": [
              "<Figure size 1100x600 with 1 Axes>"
            ],
            "image/png": "[encoded data removed]"
          },
          "metadata": {}
        }
      ]
    },
    {
      "cell_type": "markdown",
      "source": [
        "Additional Insight: `RateDiff` Feature\n",
        "\n",
        "---\n",
        "\n",
        "#### Method  \n",
        "To inject price-competitiveness information we engineered **`RateDiff` = e-Car Rate − Competitor Rate** and **dropped the raw `Rate` column** (to avoid perfect collinearity with `RateDiff` & `Competition rate`).  \n",
        "We then retrained a Random-Forest classifier (100 trees, max_depth = 5 – identical to the Q6 baseline) and compared AUCs:\n",
        "\n",
        "| Model | Validation AUC | Test AUC |\n",
        "|-------|---------------|----------|\n",
        "| RF baseline (no RateDiff) | **0.9080** | 0.8890 |\n",
        "| RF + RateDiff (without Rate) | 0.9072 | **0.8963** |\n",
        "\n",
        "Validation AUC dips by 0.0008, while **Test AUC rises by 0.0073** – a modest generalisation gain.\n",
        "\n",
        "---\n",
        "\n",
        "#### Interpretable Tree Snapshot  \n",
        "A depth-3 decision tree trained on the same features (see figure) reveals:\n",
        "\n",
        "* **Root split:** `RateDiff ≤ −0.12` → customers offered ≥ 12 bp cheaper than competitors show the highest acceptance.  \n",
        "* Within that “discount” zone acceptance is further segmented by **`Competition rate`** (how low rivals are) and loan **`Amount`**.  \n",
        "* When e-Car is **not** clearly cheaper (`RateDiff` > −0.12), **larger loan amounts** drive rejection.  \n",
        "* Certain partner channels (`Partner Bin`) fine-tune acceptance where pricing is already attractive.\n",
        "\n",
        "---\n",
        "\n",
        "#### Findings & Significance  \n",
        "\n",
        "* **Predictive value:** adding one competitiveness feature yields a ~0.7 pp lift in hold-out AUC – small but essentially “free.”  \n",
        "* **Business takeaway:** aim to keep `RateDiff < −0.12`; if not feasible, focus concessions on high-balance applicants who are most price-sensitive.  \n",
        "* **Data implication:** the original feature set already captures most variation; further gains likely require richer external or behavioural data.\n"
      ],
      "metadata": {
        "id": "a9yu-cPSPGHO"
      },
      "id": "a9yu-cPSPGHO"
    },
    {
      "cell_type": "markdown",
      "id": "fbdb1338",
      "metadata": {
        "id": "fbdb1338"
      },
      "source": [
        "\n",
        "**Future Data Needs**\n",
        "Discuss additional data or analyses that could enhance e-Car’s study.\n",
        "\n",
        "Ans. Incorporating demographic data such as age, gender, education level, employment industry, and income range would greatly strengthen e-Car’s loan acceptance and pricing models. These variables could uncover deeper patterns in customer behavior — for example, younger applicants or those employed in more volatile industries may display different sensitivities to loan rates compared to older, more financially stable applicants. By integrating demographic features into predictive models, e-Car could better segment its customer base, personalize loan offers, and refine risk assessments beyond what credit scores alone can capture. Moreover, demographic insights could help anticipate broader economic shifts in borrower behavior and guide the design of marketing strategies and partner-channel initiatives. Overall, access to demographic data would enable more precise, profitable, and fairer loan pricing decisions for e-Car."
      ]
    },
    {
      "cell_type": "markdown",
      "source": [],
      "metadata": {
        "id": "cTW6TNPeftsO"
      },
      "id": "cTW6TNPeftsO"
    },
    {
      "cell_type": "markdown",
      "source": [],
      "metadata": {
        "id": "6xtt4yhCftpn"
      },
      "id": "6xtt4yhCftpn"
    },
    {
      "cell_type": "markdown",
      "source": [],
      "metadata": {
        "id": "azMvwhh_ftnB"
      },
      "id": "azMvwhh_ftnB"
    },
    {
      "cell_type": "markdown",
      "source": [],
      "metadata": {
        "id": "63L1xF9zftkQ"
      },
      "id": "63L1xF9zftkQ"
    },
    {
      "cell_type": "markdown",
      "source": [],
      "metadata": {
        "id": "1rvxpQEbftha"
      },
      "id": "1rvxpQEbftha"
    },
    {
      "cell_type": "markdown",
      "source": [],
      "metadata": {
        "id": "h9IGjq2Aftel"
      },
      "id": "h9IGjq2Aftel"
    },
    {
      "cell_type": "markdown",
      "source": [],
      "metadata": {
        "id": "g80OvUR4ftbs"
      },
      "id": "g80OvUR4ftbs"
    },
    {
      "cell_type": "markdown",
      "source": [],
      "metadata": {
        "id": "yVnoYVByftY3"
      },
      "id": "yVnoYVByftY3"
    },
    {
      "cell_type": "markdown",
      "source": [],
      "metadata": {
        "id": "6vJWzCZcftV2"
      },
      "id": "6vJWzCZcftV2"
    },
    {
      "cell_type": "markdown",
      "source": [],
      "metadata": {
        "id": "8_IipYyFftRq"
      },
      "id": "8_IipYyFftRq"
    },
    {
      "cell_type": "markdown",
      "source": [],
      "metadata": {
        "id": "mjBk8mRqftMl"
      },
      "id": "mjBk8mRqftMl"
    },
    {
      "cell_type": "markdown",
      "source": [],
      "metadata": {
        "id": "ZDCjLWmofs_2"
      },
      "id": "ZDCjLWmofs_2"
    },
    {
      "cell_type": "markdown",
      "source": [],
      "metadata": {
        "id": "qpPyVVHWVQVs"
      },
      "id": "qpPyVVHWVQVs"
    },
    {
      "cell_type": "markdown",
      "source": [],
      "metadata": {
        "id": "BXVZzayqVQjR"
      },
      "id": "BXVZzayqVQjR"
    }
  ],
  "metadata": {
    "colab": {
      "provenance": []
    },
    "language_info": {
      "name": "python"
    },
    "kernelspec": {
      "name": "python3",
      "display_name": "Python 3"
    }
  },
  "nbformat": 4,
  "nbformat_minor": 5
}